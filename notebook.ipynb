{
 "cells": [
  {
   "cell_type": "code",
   "execution_count": null,
   "id": "9957ac69-a2e0-4d6c-88a2-08bf6d305aea",
   "metadata": {},
   "outputs": [],
   "source": [
    "import pytest\n",
    "import ipytest\n",
    "\n",
    "ipytest.autoconfig()"
   ]
  },
  {
   "cell_type": "code",
   "execution_count": null,
   "id": "b9cad1e2-8c47-4168-8817-a4c6d227fd8b",
   "metadata": {},
   "outputs": [],
   "source": [
    "%%ipytest\n",
    "def test_ints():\n",
    "    assert 1 == 1"
   ]
  },
  {
   "cell_type": "code",
   "execution_count": null,
   "id": "df5ddc30-cd3d-4302-ba68-1958cf2a4014",
   "metadata": {},
   "outputs": [],
   "source": [
    "%%ipytest\n",
    "def test_floats():\n",
    "    assert 0.999999999 == pytest.approx(1.0)"
   ]
  },
  {
   "cell_type": "code",
   "execution_count": null,
   "id": "316b933b-e5e2-464f-a418-58ff76d90e1f",
   "metadata": {},
   "outputs": [],
   "source": []
  }
 ],
 "metadata": {
  "kernelspec": {
   "display_name": "Python 3 (ipykernel)",
   "language": "python",
   "name": "python3"
  },
  "language_info": {
   "codemirror_mode": {
    "name": "ipython",
    "version": 3
   },
   "file_extension": ".py",
   "mimetype": "text/x-python",
   "name": "python",
   "nbconvert_exporter": "python",
   "pygments_lexer": "ipython3",
   "version": "3.11.5"
  }
 },
 "nbformat": 4,
 "nbformat_minor": 5
}
